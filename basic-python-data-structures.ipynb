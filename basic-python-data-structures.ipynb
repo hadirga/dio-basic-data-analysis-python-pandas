{
 "cells": [
  {
   "cell_type": "markdown",
   "metadata": {},
   "source": [
    "# Basic Python Data Structures"
   ]
  },
  {
   "cell_type": "markdown",
   "metadata": {},
   "source": [
    "## Working with lists"
   ]
  },
  {
   "cell_type": "code",
   "execution_count": 27,
   "metadata": {},
   "outputs": [
    {
     "data": {
      "text/plain": [
       "['dog', 'cat', 54321, 7.1]"
      ]
     },
     "execution_count": 27,
     "metadata": {},
     "output_type": "execute_result"
    }
   ],
   "source": [
    "# Create a list of mixed types like string, integer, and float\n",
    "list_of_mixed_elements = [\"dog\", \"cat\", 54321, 7.10]\n",
    "list_of_mixed_elements"
   ]
  },
  {
   "cell_type": "code",
   "execution_count": 28,
   "metadata": {},
   "outputs": [
    {
     "name": "stdout",
     "output_type": "stream",
     "text": [
      "first element of the list:  dog\n",
      "second element of the list:  cat\n",
      "last element of the list:  7.1\n",
      "last element of the list:  7.1\n"
     ]
    }
   ],
   "source": [
    "# Access first, second and last element of the list\n",
    "print(\"first element of the list: \", list_of_mixed_elements[0])\n",
    "print(\"second element of the list: \", list_of_mixed_elements[1])\n",
    "print(\"last element of the list: \", list_of_mixed_elements[3])\n",
    "print(\"last element of the list: \", list_of_mixed_elements[-1])"
   ]
  },
  {
   "cell_type": "code",
   "execution_count": 29,
   "metadata": {},
   "outputs": [
    {
     "name": "stdout",
     "output_type": "stream",
     "text": [
      "first element of the list:  dog\n",
      "new first element of the list:  horse\n"
     ]
    },
    {
     "data": {
      "text/plain": [
       "['horse', 'cat', 54321, 7.1]"
      ]
     },
     "execution_count": 29,
     "metadata": {},
     "output_type": "execute_result"
    }
   ],
   "source": [
    "# Substitute fist element of the list\n",
    "print(\"first element of the list: \", list_of_mixed_elements[0])\n",
    "list_of_mixed_elements[0] = \"horse\"\n",
    "print(\"new first element of the list: \", list_of_mixed_elements[0])\n",
    "list_of_mixed_elements"
   ]
  },
  {
   "cell_type": "code",
   "execution_count": 30,
   "metadata": {},
   "outputs": [
    {
     "data": {
      "text/plain": [
       "['horse', 54321, 7.1]"
      ]
     },
     "execution_count": 30,
     "metadata": {},
     "output_type": "execute_result"
    }
   ],
   "source": [
    "# Remove an element of the list\n",
    "list_of_mixed_elements.remove(\"cat\")\n",
    "list_of_mixed_elements"
   ]
  },
  {
   "cell_type": "code",
   "execution_count": 31,
   "metadata": {},
   "outputs": [
    {
     "data": {
      "text/plain": [
       "3"
      ]
     },
     "execution_count": 31,
     "metadata": {},
     "output_type": "execute_result"
    }
   ],
   "source": [
    "# Get the number of elements in the list\n",
    "len(list_of_mixed_elements)"
   ]
  },
  {
   "cell_type": "code",
   "execution_count": 32,
   "metadata": {},
   "outputs": [
    {
     "data": {
      "text/plain": [
       "['horse', 54321, 7.1, 'rabbit']"
      ]
     },
     "execution_count": 32,
     "metadata": {},
     "output_type": "execute_result"
    }
   ],
   "source": [
    "# Insert a new element at the end of the list\n",
    "list_of_mixed_elements.append(\"rabbit\")\n",
    "list_of_mixed_elements"
   ]
  },
  {
   "cell_type": "code",
   "execution_count": 33,
   "metadata": {},
   "outputs": [
    {
     "data": {
      "text/plain": [
       "['horse', 54321, 7.1, 'rabbit', 'snake', 'mouse', 'snake']"
      ]
     },
     "execution_count": 33,
     "metadata": {},
     "output_type": "execute_result"
    }
   ],
   "source": [
    "# insert more then one element at the end of the list\n",
    "list_of_mixed_elements.extend([\"snake\", \"mouse\", \"snake\"])\n",
    "list_of_mixed_elements"
   ]
  },
  {
   "cell_type": "code",
   "execution_count": 34,
   "metadata": {},
   "outputs": [
    {
     "name": "stdout",
     "output_type": "stream",
     "text": [
      "Element dog repeats:  0 times\n",
      "Element snake repeats:  2 times\n"
     ]
    }
   ],
   "source": [
    "# Get the number of an element in the list\n",
    "print(\"Element dog repeats: \", list_of_mixed_elements.count(\"dog\"), \"times\")\n",
    "print(\"Element snake repeats: \", list_of_mixed_elements.count(\"snake\"), \"times\")"
   ]
  },
  {
   "cell_type": "code",
   "execution_count": 35,
   "metadata": {},
   "outputs": [
    {
     "data": {
      "text/plain": [
       "[100, 30, 25, 5, 10, 15, 20]"
      ]
     },
     "execution_count": 35,
     "metadata": {},
     "output_type": "execute_result"
    }
   ],
   "source": [
    "# Renew a list of integers\n",
    "list_of_integers = [100, 30, 25, 5, 10, 15, 20]\n",
    "list_of_integers"
   ]
  },
  {
   "cell_type": "code",
   "execution_count": 36,
   "metadata": {},
   "outputs": [
    {
     "name": "stdout",
     "output_type": "stream",
     "text": [
      "The maximum is:  100\n",
      "The minimum is:  5\n"
     ]
    }
   ],
   "source": [
    "# Get the elemnte with maximum and minimum values in the list\n",
    "print(\"The maximum is: \", max(list_of_integers))\n",
    "print(\"The minimum is: \", min(list_of_integers))"
   ]
  },
  {
   "cell_type": "code",
   "execution_count": 37,
   "metadata": {},
   "outputs": [
    {
     "data": {
      "text/plain": [
       "[5, 10, 15, 20, 25, 30, 100]"
      ]
     },
     "execution_count": 37,
     "metadata": {},
     "output_type": "execute_result"
    }
   ],
   "source": [
    "# sort a list of numeric elements\n",
    "list_of_integers.sort()\n",
    "list_of_integers"
   ]
  },
  {
   "cell_type": "markdown",
   "metadata": {},
   "source": [
    "# Working with tuples"
   ]
  },
  {
   "cell_type": "code",
   "execution_count": 38,
   "metadata": {},
   "outputs": [
    {
     "data": {
      "text/plain": [
       "('pineapple', 'apple', 54321, 7.1)"
      ]
     },
     "execution_count": 38,
     "metadata": {},
     "output_type": "execute_result"
    }
   ],
   "source": [
    "# A tuple uses parentheses to instead of square brakets\n",
    "tuple_of_mixed_elements = (\"pineapple\", \"apple\", 54321, 7.10)\n",
    "tuple_of_mixed_elements"
   ]
  },
  {
   "cell_type": "code",
   "execution_count": 39,
   "metadata": {},
   "outputs": [
    {
     "name": "stdout",
     "output_type": "stream",
     "text": [
      "first element of the tuple:  pineapple\n",
      "second element of the tuple:  apple\n",
      "last element of the tuple:  7.1\n",
      "last element of the tuple:  7.1\n"
     ]
    }
   ],
   "source": [
    "# Access first, second and last element of the tuple\n",
    "print(\"first element of the tuple: \", tuple_of_mixed_elements[0])\n",
    "print(\"second element of the tuple: \", tuple_of_mixed_elements[1])\n",
    "print(\"last element of the tuple: \", tuple_of_mixed_elements[3])\n",
    "print(\"last element of the tuple: \", tuple_of_mixed_elements[-1])"
   ]
  },
  {
   "cell_type": "code",
   "execution_count": 40,
   "metadata": {},
   "outputs": [
    {
     "ename": "TypeError",
     "evalue": "'tuple' object does not support item assignment",
     "output_type": "error",
     "traceback": [
      "\u001b[0;31m---------------------------------------------------------------------------\u001b[0m",
      "\u001b[0;31mTypeError\u001b[0m                                 Traceback (most recent call last)",
      "Cell \u001b[0;32mIn [40], line 2\u001b[0m\n\u001b[1;32m      1\u001b[0m \u001b[38;5;66;03m# Trying to change/replace an element of a tuple results in an error\u001b[39;00m\n\u001b[0;32m----> 2\u001b[0m tuple_of_mixed_elements[\u001b[38;5;241m0\u001b[39m] \u001b[38;5;241m=\u001b[39m \u001b[38;5;124m\"\u001b[39m\u001b[38;5;124morange\u001b[39m\u001b[38;5;124m\"\u001b[39m\n",
      "\u001b[0;31mTypeError\u001b[0m: 'tuple' object does not support item assignment"
     ]
    }
   ],
   "source": [
    "# Trying to change/replace an element of a tuple results in an error\n",
    "tuple_of_mixed_elements[0] = \"orange\""
   ]
  },
  {
   "cell_type": "code",
   "execution_count": null,
   "metadata": {},
   "outputs": [
    {
     "data": {
      "text/plain": [
       "1"
      ]
     },
     "execution_count": 62,
     "metadata": {},
     "output_type": "execute_result"
    }
   ],
   "source": [
    "# get number of repetition of an element in te tuple\n",
    "tuple_of_mixed_elements.count(\"apple\")"
   ]
  },
  {
   "cell_type": "code",
   "execution_count": null,
   "metadata": {},
   "outputs": [
    {
     "data": {
      "text/plain": [
       "('apple', 54321)"
      ]
     },
     "execution_count": 67,
     "metadata": {},
     "output_type": "execute_result"
    }
   ],
   "source": [
    "# Slicing a tuple\n",
    "tuple_of_mixed_elements[1:3]"
   ]
  },
  {
   "cell_type": "markdown",
   "metadata": {},
   "source": [
    "# Working with Dictionaries"
   ]
  },
  {
   "cell_type": "code",
   "execution_count": null,
   "metadata": {},
   "outputs": [
    {
     "data": {
      "text/plain": [
       "{'apple': 1, 'banana': 2, 'cherry': 3}"
      ]
     },
     "execution_count": 15,
     "metadata": {},
     "output_type": "execute_result"
    }
   ],
   "source": [
    "# A dictionary is created using {} curly brackets and key: value syntax\n",
    "fruits_dictionary = {\"apple\": 1, \"banana\": 2, \"cherry\": 3}\n",
    "fruits_dictionary"
   ]
  },
  {
   "cell_type": "code",
   "execution_count": null,
   "metadata": {},
   "outputs": [
    {
     "data": {
      "text/plain": [
       "1"
      ]
     },
     "execution_count": 17,
     "metadata": {},
     "output_type": "execute_result"
    }
   ],
   "source": [
    "# Accessing an element of a dictionary\n",
    "fruits_dictionary[\"apple\"]"
   ]
  },
  {
   "cell_type": "code",
   "execution_count": null,
   "metadata": {},
   "outputs": [
    {
     "data": {
      "text/plain": [
       "{'apple': 1, 'banana': 20, 'cherry': 3}"
      ]
     },
     "execution_count": 19,
     "metadata": {},
     "output_type": "execute_result"
    }
   ],
   "source": [
    "# Changing the value of a dictionary element\n",
    "fruits_dictionary[\"banana\"] = 20\n",
    "fruits_dictionary"
   ]
  },
  {
   "cell_type": "code",
   "execution_count": null,
   "metadata": {},
   "outputs": [
    {
     "data": {
      "text/plain": [
       "dict_keys(['apple', 'banana', 'cherry'])"
      ]
     },
     "execution_count": 20,
     "metadata": {},
     "output_type": "execute_result"
    }
   ],
   "source": [
    "# Get all the keys of a dictionary\n",
    "fruits_dictionary.keys()"
   ]
  },
  {
   "cell_type": "code",
   "execution_count": null,
   "metadata": {},
   "outputs": [
    {
     "data": {
      "text/plain": [
       "dict_values([1, 20, 3])"
      ]
     },
     "execution_count": 22,
     "metadata": {},
     "output_type": "execute_result"
    }
   ],
   "source": [
    "# Get all the values of a dictionary\n",
    "fruits_dictionary.values()"
   ]
  },
  {
   "cell_type": "code",
   "execution_count": null,
   "metadata": {},
   "outputs": [
    {
     "data": {
      "text/plain": [
       "dict_items([('apple', 1), ('banana', 20), ('cherry', 3)])"
      ]
     },
     "execution_count": 23,
     "metadata": {},
     "output_type": "execute_result"
    }
   ],
   "source": [
    "# Get the items of a dictionary\n",
    "fruits_dictionary.items()"
   ]
  },
  {
   "cell_type": "code",
   "execution_count": null,
   "metadata": {},
   "outputs": [
    {
     "data": {
      "text/plain": [
       "4"
      ]
     },
     "execution_count": 26,
     "metadata": {},
     "output_type": "execute_result"
    }
   ],
   "source": [
    "# Insert an item if it doesn't exist and return it\n",
    "fruits_dictionary.setdefault(\"dragonfruit\", 4)"
   ]
  }
 ],
 "metadata": {
  "kernelspec": {
   "display_name": "Python 3.9.13 ('datascience')",
   "language": "python",
   "name": "python3"
  },
  "language_info": {
   "codemirror_mode": {
    "name": "ipython",
    "version": 3
   },
   "file_extension": ".py",
   "mimetype": "text/x-python",
   "name": "python",
   "nbconvert_exporter": "python",
   "pygments_lexer": "ipython3",
   "version": "3.9.13"
  },
  "orig_nbformat": 4,
  "vscode": {
   "interpreter": {
    "hash": "46b2aff4c7d6b864ed865b78a0cda4bb390745d058ad79f2a947fca48b1d30a8"
   }
  }
 },
 "nbformat": 4,
 "nbformat_minor": 2
}
